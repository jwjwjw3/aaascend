{
 "cells": [
  {
   "cell_type": "code",
   "execution_count": 1,
   "id": "2dfc7fd2-c8c3-432c-9f0a-ee1b4895b1b3",
   "metadata": {},
   "outputs": [],
   "source": [
    "import numpy as np\n",
    "import cv2\n",
    "import onnx\n",
    "import onnxruntime as ort\n",
    "import numpy as np\n",
    "from PIL import Image\n",
    "from pathlib import Path\n",
    "import vai_q_onnx\n",
    "\n",
    "import torch\n",
    "from torch.utils.data import DataLoader, Dataset\n",
    "from torchvision import transforms\n",
    "from torchvision.datasets import CIFAR10\n",
    "\n",
    "import onnx\n",
    "import onnxruntime as ort\n",
    "from onnxruntime.quantization import CalibrationDataReader, QuantType, QuantFormat, CalibrationMethod, quantize_static\n",
    "\n",
    "import os, shutil\n",
    "from time import perf_counter"
   ]
  },
  {
   "cell_type": "code",
   "execution_count": 2,
   "id": "450090f3",
   "metadata": {},
   "outputs": [],
   "source": [
    "def unpickle(file):\n",
    "    import pickle\n",
    "    with open(file,'rb') as fo:\n",
    "        dict = pickle.load(fo, encoding='latin1')\n",
    "    return dict\n",
    "\n",
    "datafile = r'./data/cifar-10-batches-py/test_batch'\n",
    "metafile = r'./data/cifar-10-batches-py/batches.meta'\n",
    "\n",
    "data_batch_1 = unpickle(datafile) \n",
    "metadata = unpickle(metafile)\n",
    "\n",
    "images = data_batch_1['data']\n",
    "labels = data_batch_1['labels']\n",
    "images = np.reshape(images,(10000, 3, 32, 32))\n",
    "\n",
    "dirname = 'images'\n",
    "if not os.path.exists(dirname):\n",
    "   os.mkdir(dirname)"
   ]
  },
  {
   "cell_type": "code",
   "execution_count": 3,
   "id": "5d211960",
   "metadata": {},
   "outputs": [],
   "source": [
    "quant_dir = './models/quant'\n",
    "models = os.listdir(quant_dir)\n",
    "\n",
    "cpu_time = []\n",
    "model_name = models[0]\n",
    "\n",
    "quantized_model_path = os.path.join(quant_dir, model_name)\n",
    "model = onnx.load(quantized_model_path)\n",
    "\n",
    "use_aie = True\n",
    "\n",
    "providers = ['CPUExecutionProvider']\n",
    "provider_options = [{}]\n",
    "\n",
    "session = ort.InferenceSession(model.SerializeToString(), providers=providers,\n",
    "                            provider_options=provider_options)\n",
    "\n",
    "elapsed = 0\n",
    "correct = 0\n",
    "im = images\n",
    "image_array = np.array(im).astype(np.float32)\n",
    "image_array = image_array/255\n",
    "input_data = image_array\n",
    "\n",
    "ts = perf_counter()\n",
    "for i in range(10):\n",
    "    outputs = session.run(None, {'input': input_data})\n",
    "elapsed += (perf_counter() - ts)/10\n"
   ]
  },
  {
   "cell_type": "code",
   "execution_count": 4,
   "id": "866ad844",
   "metadata": {},
   "outputs": [
    {
     "name": "stdout",
     "output_type": "stream",
     "text": [
      "(10000, 10)\n",
      "Model: ResNet10_1111_4.U8S8.onnx, Accuracy: 0.0001, Time: 1.0705274799999998\n"
     ]
    }
   ],
   "source": [
    "print(outputs[0].shape)\n",
    "for i in range(len(outputs)):\n",
    "    output_array = outputs[0][i]\n",
    "    predicted_class = np.argmax(output_array)\n",
    "    predicted_label = metadata['label_names'][predicted_class]\n",
    "    label = metadata['label_names'][labels[i]]\n",
    "    if predicted_class == labels[i]:\n",
    "        correct += 1\n",
    "cpu_time.append(elapsed)\n",
    "print(f\"Model: {model_name}, Accuracy: {correct/10000}, Time: {elapsed}\")"
   ]
  },
  {
   "cell_type": "code",
   "execution_count": 5,
   "id": "167c0a99",
   "metadata": {},
   "outputs": [
    {
     "name": "stdout",
     "output_type": "stream",
     "text": [
      "Model: ResNet10_1111_4.U8S8.onnx, Accuracy: 0.0845, Time: 1.8717528999991373\n",
      "Model: ResNet10_1111_6.U8S8.onnx, Accuracy: 0.0888, Time: 2.5674116999992407\n",
      "Model: ResNet10_1111_8.U8S8.onnx, Accuracy: 0.1128, Time: 3.5455244999999564\n",
      "Model: ResNet10_22_4.U8S8.onnx, Accuracy: 0.0922, Time: 1.6064468000003274\n",
      "Model: ResNet10_22_6.U8S8.onnx, Accuracy: 0.1236, Time: 2.2081593000012134\n",
      "Model: ResNet10_22_8.U8S8.onnx, Accuracy: 0.0865, Time: 2.752194799999671\n",
      "Model: ResNet12_2111_4.U8S8.onnx, Accuracy: 0.092, Time: 2.093540099999501\n",
      "Model: ResNet12_2111_6.U8S8.onnx, Accuracy: 0.0957, Time: 3.0900235000015357\n",
      "Model: ResNet12_2111_8.U8S8.onnx, Accuracy: 0.0968, Time: 4.159379399999267\n",
      "Model: ResNet14_2211_4.U8S8.onnx, Accuracy: 0.0825, Time: 2.361932400000967\n",
      "Model: ResNet14_2211_6.U8S8.onnx, Accuracy: 0.1028, Time: 3.282070699998229\n",
      "Model: ResNet14_2211_8.U8S8.onnx, Accuracy: 0.0509, Time: 4.51731920000131\n",
      "Model: ResNet14_222_4.U8S8.onnx, Accuracy: 0.1118, Time: 2.251398700000834\n",
      "Model: ResNet14_222_6.U8S8.onnx, Accuracy: 0.0685, Time: 3.2573209999992514\n",
      "Model: ResNet14_222_8.U8S8.onnx, Accuracy: 0.0859, Time: 4.216187999999931\n",
      "Model: ResNet16_2221_4.U8S8.onnx, Accuracy: 0.0967, Time: 2.7227459999969597\n",
      "Model: ResNet16_2221_6.U8S8.onnx, Accuracy: 0.1, Time: 4.188958599999779\n",
      "Model: ResNet16_2221_8.U8S8.onnx, Accuracy: 0.0839, Time: 5.644059400001339\n",
      "Model: ResNet18_2222_4.U8S8.onnx, Accuracy: 0.1446, Time: 3.629270600000268\n",
      "Model: ResNet18_2222_6.U8S8.onnx, Accuracy: 0.0472, Time: 5.209090699999479\n",
      "Model: ResNet18_2222_8.U8S8.onnx, Accuracy: 0.0717, Time: 7.496912099998184\n",
      "Model: ResNet34_3463_4.U8S8.onnx, Accuracy: 0.0481, Time: 6.384880399999474\n",
      "Model: ResNet34_3463_6.U8S8.onnx, Accuracy: 0.1218, Time: 9.405165899999645\n",
      "Model: ResNet34_3463_8.U8S8.onnx, Accuracy: 0.0964, Time: 13.68932740000011\n"
     ]
    }
   ],
   "source": [
    "quant_dir = './models/quant'\n",
    "models = os.listdir(quant_dir)\n",
    "\n",
    "cpu_time = []\n",
    "for model_name in models:\n",
    "    quantized_model_path = os.path.join(quant_dir, model_name)\n",
    "    model = onnx.load(quantized_model_path)\n",
    "\n",
    "    use_aie = True\n",
    "\n",
    "    providers = ['CPUExecutionProvider']\n",
    "    provider_options = [{}]\n",
    "\n",
    "    session = ort.InferenceSession(model.SerializeToString(), providers=providers,\n",
    "                                provider_options=provider_options)\n",
    "    \n",
    "    elapsed = 0\n",
    "    correct = 0\n",
    "    for i in range(10000): \n",
    "        im = images[i]\n",
    "        image_array = np.array(im).astype(np.float32)\n",
    "        image_array = image_array/255\n",
    "        input_data = np.expand_dims(image_array, axis=0)\n",
    "\n",
    "        ts = perf_counter()\n",
    "        outputs = session.run(None, {'input': input_data})\n",
    "        elapsed += (perf_counter() - ts)\n",
    "\n",
    "        output_array = outputs[0]\n",
    "        predicted_class = np.argmax(output_array)\n",
    "        predicted_label = metadata['label_names'][predicted_class]\n",
    "        label = metadata['label_names'][labels[i]]\n",
    "        if predicted_class == labels[i]:\n",
    "            correct += 1\n",
    "    cpu_time.append(elapsed)\n",
    "    print(f\"Model: {model_name}, Accuracy: {correct/10000}, Time: {elapsed}\")"
   ]
  },
  {
   "cell_type": "code",
   "execution_count": 6,
   "id": "2219fd5d",
   "metadata": {},
   "outputs": [
    {
     "name": "stdout",
     "output_type": "stream",
     "text": [
      "CPU Time:  [1.8717528999991373, 2.5674116999992407, 3.5455244999999564, 1.6064468000003274, 2.2081593000012134, 2.752194799999671, 2.093540099999501, 3.0900235000015357, 4.159379399999267, 2.361932400000967, 3.282070699998229, 4.51731920000131, 2.251398700000834, 3.2573209999992514, 4.216187999999931, 2.7227459999969597, 4.188958599999779, 5.644059400001339, 3.629270600000268, 5.209090699999479, 7.496912099998184, 6.384880399999474, 9.405165899999645, 13.68932740000011]\n"
     ]
    }
   ],
   "source": [
    "\n",
    "print(\"CPU Time: \", cpu_time)\n",
    "cpu_time_np = np.array(cpu_time)\n",
    "np.save(\"cpu_time.npy\", cpu_time_np)"
   ]
  },
  {
   "cell_type": "code",
   "execution_count": null,
   "id": "3c9a524a",
   "metadata": {},
   "outputs": [],
   "source": []
  }
 ],
 "metadata": {
  "kernelspec": {
   "display_name": "Python 3 (ipykernel)",
   "language": "python",
   "name": "python3"
  },
  "language_info": {
   "codemirror_mode": {
    "name": "ipython",
    "version": 3
   },
   "file_extension": ".py",
   "mimetype": "text/x-python",
   "name": "python",
   "nbconvert_exporter": "python",
   "pygments_lexer": "ipython3",
   "version": "3.9.19"
  }
 },
 "nbformat": 4,
 "nbformat_minor": 5
}
