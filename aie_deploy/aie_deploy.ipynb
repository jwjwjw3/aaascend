{
 "cells": [
  {
   "cell_type": "code",
   "execution_count": 1,
   "id": "2dfc7fd2-c8c3-432c-9f0a-ee1b4895b1b3",
   "metadata": {},
   "outputs": [],
   "source": [
    "import numpy as np\n",
    "import cv2\n",
    "import onnx\n",
    "import onnxruntime as ort\n",
    "import numpy as np\n",
    "from PIL import Image\n",
    "from pathlib import Path\n",
    "import vai_q_onnx\n",
    "\n",
    "import torch\n",
    "from torch.utils.data import DataLoader, Dataset\n",
    "from torchvision import transforms\n",
    "from torchvision.datasets import CIFAR10\n",
    "\n",
    "import onnx\n",
    "import onnxruntime as ort\n",
    "from onnxruntime.quantization import CalibrationDataReader, QuantType, QuantFormat, CalibrationMethod, quantize_static\n",
    "\n",
    "import os, shutil\n",
    "from time import perf_counter"
   ]
  },
  {
   "cell_type": "code",
   "execution_count": 2,
   "id": "450090f3",
   "metadata": {},
   "outputs": [],
   "source": [
    "def unpickle(file):\n",
    "    import pickle\n",
    "    with open(file,'rb') as fo:\n",
    "        dict = pickle.load(fo, encoding='latin1')\n",
    "    return dict\n",
    "\n",
    "datafile = r'./data/cifar-10-batches-py/test_batch'\n",
    "metafile = r'./data/cifar-10-batches-py/batches.meta'\n",
    "\n",
    "data_batch_1 = unpickle(datafile) \n",
    "metadata = unpickle(metafile)\n",
    "\n",
    "images = data_batch_1['data']\n",
    "labels = data_batch_1['labels']\n",
    "images = np.reshape(images,(10000, 3, 32, 32))\n",
    "\n",
    "dirname = 'images'\n",
    "if not os.path.exists(dirname):\n",
    "   os.mkdir(dirname)"
   ]
  },
  {
   "cell_type": "code",
   "execution_count": 3,
   "id": "be47c121",
   "metadata": {},
   "outputs": [
    {
     "name": "stdout",
     "output_type": "stream",
     "text": [
      "Model: ResNet34_3463_4.U8S8.onnx, Accuracy: 0.0486, Time: 15.356808400000071\n",
      "Model: ResNet34_3463_6.U8S8.onnx, Accuracy: 0.0486, Time: 15.544282599999843\n",
      "Model: ResNet34_3463_8.U8S8.onnx, Accuracy: 0.0486, Time: 15.096815899999996\n"
     ]
    }
   ],
   "source": [
    "quant_dir = './models/quant'\n",
    "models = os.listdir(quant_dir)\n",
    "\n",
    "ipu_time = []\n",
    "for model_name in models[21:]:\n",
    "    quantized_model_path = quant_dir + '/' + model_name\n",
    "    model = onnx.load(quantized_model_path.encode('unicode_escape'))\n",
    "\n",
    "    providers = ['VitisAIExecutionProvider']\n",
    "    cache_dir = 'cache'\n",
    "    if os.path.exists(cache_dir):\n",
    "        shutil.rmtree(cache_dir)\n",
    "    cache_key = 'modelcachekey'\n",
    "    provider_options = [{\n",
    "                    'config_file': 'vaip_config.json',\n",
    "                    'cacheDir': str(cache_dir),\n",
    "                    'cacheKey': str(cache_key)\n",
    "                }]\n",
    "\n",
    "    session = ort.InferenceSession(model.SerializeToString(), providers=providers,\n",
    "                                provider_options=provider_options)\n",
    "\n",
    "    elapsed = 0\n",
    "    correct = 0\n",
    "    for i in range(10000): \n",
    "        im = images[i]\n",
    "        image_array = np.array(im).astype(np.float32)\n",
    "        image_array = image_array/255\n",
    "        input_data = np.expand_dims(image_array, axis=0)\n",
    "\n",
    "        ts = perf_counter()\n",
    "        outputs = session.run(None, {'input': input_data})\n",
    "        elapsed += perf_counter() - ts\n",
    "\n",
    "        output_array = outputs[0]\n",
    "        predicted_class = np.argmax(output_array)\n",
    "        predicted_label = metadata['label_names'][predicted_class]\n",
    "        label = metadata['label_names'][labels[i]]\n",
    "        if predicted_class == labels[i]:\n",
    "            correct += 1\n",
    "    ipu_time.append(elapsed)\n",
    "    print(f\"Model: {model_name}, Accuracy: {correct/10000}, Time: {elapsed}\")"
   ]
  },
  {
   "cell_type": "code",
   "execution_count": 5,
   "id": "2219fd5d",
   "metadata": {},
   "outputs": [
    {
     "name": "stdout",
     "output_type": "stream",
     "text": [
      "IPU Time:  [8.269969299999346, 8.108792799999776, 8.287699399999454, 7.7339816000000114, 7.837330499999981, 7.697161800000178, 8.738617600000067, 8.903890100000169, 8.723434799999886, 9.487967600000081, 9.639269599999949, 9.316346400000263, 8.882118200000106, 9.143361500000019, 8.934766700000843, 9.942197599999995, 10.221836500000052, 9.977555300000006, 10.800581199999977, 10.82645130000012, 10.735090399999912, 15.356808400000071, 15.544282599999843, 15.096815899999996]\n"
     ]
    }
   ],
   "source": [
    "ipu_time = [8.269969299999346, 8.108792799999776, 8.287699399999454, 7.7339816000000114, 7.837330499999981, 7.697161800000178, 8.738617600000067, 8.903890100000169, 8.723434799999886, 9.487967600000081, 9.639269599999949, 9.316346400000263, 8.882118200000106, 9.143361500000019, 8.934766700000843, 9.942197599999995, 10.221836500000052, 9.977555300000006, 10.800581199999977, 10.82645130000012, 10.735090399999912, 15.356808400000071, 15.544282599999843, 15.096815899999996]\n",
    "print(\"IPU Time: \", ipu_time)\n",
    "ipu_time_np = np.array(ipu_time)\n",
    "np.save(\"ipu_time.npy\", ipu_time_np)"
   ]
  },
  {
   "cell_type": "code",
   "execution_count": 6,
   "id": "3c9a524a",
   "metadata": {},
   "outputs": [],
   "source": [
    "cpu_time = np.load(\"cpu_time.npy\")"
   ]
  },
  {
   "cell_type": "code",
   "execution_count": 10,
   "id": "5c476d0a",
   "metadata": {},
   "outputs": [],
   "source": [
    "# Plot cpu_time and ipu_time with matplotlib\n",
    "import matplotlib.pyplot as plt\n",
    "import numpy as np\n",
    "import matplotlib.pyplot as plt\n",
    "\n",
    "# CPU time and IPU time data\n",
    "cpu_time = [1.8717529, 2.5674117, 3.5455245, 1.6064468, 2.2081593, 2.7521948, 2.0935401, 3.0900235, 4.1593794, 2.3619324, 3.2820707, 4.5173192, 2.2513987, 3.257321, 4.216188, 2.722746, 4.1889586, 5.6440594, 3.6292706, 5.2090907, 7.4969121, 6.3848804, 9.4051659, 13.6893274]\n",
    "ipu_time = [8.269969299999346, 8.108792799999776, 8.287699399999454, 7.7339816000000114, 7.837330499999981, 7.697161800000178, 8.738617600000067, 8.903890100000169, 8.723434799999886, 9.487967600000081, 9.639269599999949, 9.316346400000263, 8.882118200000106, 9.143361500000019, 8.934766700000843, 9.942197599999995, 10.221836500000052, 9.977555300000006, 10.800581199999977, 10.82645130000012, 10.735090399999912, 15.356808400000071, 15.544282599999843, 15.096815899999996]\n",
    "quant_dir = './models/quant'\n",
    "import os \n",
    "models = os.listdir(quant_dir)\n",
    "# cpu_time to csv\n",
    "import csv\n",
    "with open('cpu_time.csv', mode='w') as file:\n",
    "    writer = csv.writer(file)\n",
    "    writer.writerow(['Model', 'CPU Time', 'IPU Time'])\n",
    "    for i in range(len(models)):\n",
    "        writer.writerow([models[i], cpu_time[i], ipu_time[i]])\n"
   ]
  },
  {
   "cell_type": "code",
   "execution_count": null,
   "id": "2e3474ae",
   "metadata": {},
   "outputs": [],
   "source": []
  }
 ],
 "metadata": {
  "kernelspec": {
   "display_name": "Python 3 (ipykernel)",
   "language": "python",
   "name": "python3"
  },
  "language_info": {
   "codemirror_mode": {
    "name": "ipython",
    "version": 3
   },
   "file_extension": ".py",
   "mimetype": "text/x-python",
   "name": "python",
   "nbconvert_exporter": "python",
   "pygments_lexer": "ipython3",
   "version": "3.9.19"
  }
 },
 "nbformat": 4,
 "nbformat_minor": 5
}
